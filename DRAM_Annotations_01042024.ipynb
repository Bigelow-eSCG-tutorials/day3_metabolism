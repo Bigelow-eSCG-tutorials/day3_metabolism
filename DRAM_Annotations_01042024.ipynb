{
 "cells": [
  {
   "cell_type": "markdown",
   "metadata": {},
   "source": [
    "Before setting up and working with data: PLEASE make a copy of the DRAM notebooks into your own directory. This would look something like:\n",
    "\n",
    "```\n",
    "$ cp -r /mnt/storage/lessons/day3_metabolic_lesson/ /mnt/storage/userlab/{your name directory\n",
    "```\n",
    "\n",
    "\n",
    "in my case this would be:\n",
    "```\n",
    "$ cp -r /mnt/storage/lessons/day3_metabolic_lesson/ /mnt/storage/userlab/melody\n",
    "```"
   ]
  },
  {
   "cell_type": "markdown",
   "metadata": {},
   "source": [
    "# Data Environment Setup"
   ]
  },
  {
   "cell_type": "markdown",
   "metadata": {},
   "source": [
    "Open the terminal and make a directory for the results of your analyses. In {your_name_here} put your user name"
   ]
  },
  {
   "cell_type": "markdown",
   "metadata": {},
   "source": [
    "```\n",
    "$ mkdir -p ~/storage/userlab/{your_name_here}/annotations\n",
    "```\n",
    "\n",
    "\n",
    "in my case this would be:\n",
    "```\n",
    "$ mkdir -p ~/storage/userlab/melody/annotations\n",
    "```\n"
   ]
  },
  {
   "cell_type": "markdown",
   "metadata": {},
   "source": [
    "Within this directory create another directory; one for DRAM"
   ]
  },
  {
   "cell_type": "markdown",
   "metadata": {},
   "source": [
    "```\n",
    "$ mkdir -p ~/storage/userlab/{your_name_here}/annotations/DRAM\n",
    "```"
   ]
  },
  {
   "cell_type": "markdown",
   "metadata": {},
   "source": [
    "# Software Environment Setup"
   ]
  },
  {
   "cell_type": "markdown",
   "metadata": {},
   "source": [
    "The softwares needed for this tutorial can be found in the conda env config files and ./dram_env.yml"
   ]
  },
  {
   "cell_type": "markdown",
   "metadata": {},
   "source": [
    "They are pre-installed on the jupyter hub. "
   ]
  },
  {
   "cell_type": "markdown",
   "metadata": {},
   "source": [
    "## DRAM"
   ]
  },
  {
   "cell_type": "markdown",
   "metadata": {},
   "source": [
    "Before we start this analysis, let's deactivate the previous conda environment and activate DRAM"
   ]
  },
  {
   "cell_type": "markdown",
   "metadata": {},
   "source": [
    "If needed:\n",
    "```\n",
    "$ conda deactivate\n",
    "$ source activate /mnt/storage/envs/dram/\n",
    "```"
   ]
  },
  {
   "cell_type": "markdown",
   "metadata": {},
   "source": [
    "DRAM takes a lot of time to run. So each of you will only run it on one or two SAGs. Pick your favorites or a random SAG identifier (in my case, AM-332-A08) and type the following command. We will modify the --threads parameter to 1 (in order for all our jobs to run in parallel; you can increase this if you are working in your own cluster). We have also modified the --min_contig_size to 2000 in order for the software to annotate all our contigs (the default is 2500)."
   ]
  },
  {
   "cell_type": "markdown",
   "metadata": {},
   "source": [
    "```\n",
    "$ DRAM.py annotate -i /mnt/storage/data/ag-910/{SAG folder of choice}/*.fasta --min_contig_size 2000 --threads 1 -o /mnt/storage/userlab/{your folder name}/annotations/DRAM/{SAG name of choice}_DRAM_Output\n",
    "```"
   ]
  },
  {
   "cell_type": "markdown",
   "metadata": {
    "tags": []
   },
   "source": [
    "If you'd like to run this command on more than one SAG, you will need to transfer the .fasta files to a single directory, and run this command (with ' '!!)"
   ]
  },
  {
   "cell_type": "markdown",
   "metadata": {},
   "source": [
    "```\n",
    "$ DRAM.py annotate -i 'storage/userlab/{your name here}/SAGS_for_BulkDram/*' --min_contig_size 2000 --threads 4 -o /mnt/storage/userlab/{your name here}/BulkDRAM\n",
    "```"
   ]
  },
  {
   "cell_type": "markdown",
   "metadata": {},
   "source": [
    "After the annotation is done we can run the destillation (it produces summaries of our results)."
   ]
  },
  {
   "cell_type": "markdown",
   "metadata": {},
   "source": [
    "```\n",
    "$ DRAM.py distill -i /mnt/storage/userlab/melody/annotations/DRAM/AG-910-A01_DRAM_Output/annotations.tsv -o /mnt/storage/userlab/melody/annotations/DRAM/AG-910-A01_DRAM_Output/AG-910-A01_Summary --trna_path  /mnt/storage/userlab/melody/annotations/DRAM/AG-910-A01_DRAM_Output/trnas.tsv \n",
    "```\n",
    "\n",
    "If you have a trnas AND rrnas file, please run the command with both flags:\n",
    "```\n",
    "$ DRAM.py distill -i /mnt/storage/userlab/melody/annotations/DRAM/AG-910-A01_DRAM_Output/annotations.tsv -o /mnt/storage/userlab/melody/annotations/DRAM/AG-910-A01_DRAM_Output/AG-910-A01_Summary --rrna_path  /mnt/storage/user_lab/melody/annotations/DRAM/AM-332-A08/rrnas.tsv --trna_path  /mnt/storage/userlab/melody/annotations/DRAM/AG-910-A01_DRAM_Output/trnas.tsv \n",
    "```"
   ]
  },
  {
   "cell_type": "markdown",
   "metadata": {},
   "source": [
    "For multiple SAGs, please run a command similar to this:"
   ]
  },
  {
   "cell_type": "markdown",
   "metadata": {},
   "source": [
    "```\n",
    "$ DRAM.py distill -i /mnt/storage/userlab/melody/BulkDRAM1/annotations.tsv -o /mnt/storage/userlab/melody/BulkDRAM1/summary/ --rrna_path  /mnt/storage/userlab/melody/BulkDRAM1/rrnas.tsv --trna_path  /mnt/storage/userlab/melody/BulkDRAM1/trnas.tsv\n",
    "```"
   ]
  },
  {
   "cell_type": "markdown",
   "metadata": {},
   "source": [
    "If your SAG didn't have any rrnas.tsv you should omit this flag (--rrna_path  /mnt/storage/*/rrnas.tsv). It is always good practice to check your output files by typing `ls -lh /mnt/storage/{your name here}/annotations/DRAM/{SAG directory name here}` before proceeding. \n",
    "\n",
    "Also remember to check the help menu before writing your command. For DRAM you can write:"
   ]
  },
  {
   "cell_type": "markdown",
   "metadata": {},
   "source": [
    "```\n",
    "DRAM.py annotate --help\n",
    "DRAM.py distill --help\n",
    "```"
   ]
  },
  {
   "cell_type": "code",
   "execution_count": null,
   "metadata": {},
   "outputs": [],
   "source": []
  }
 ],
 "metadata": {
  "kernelspec": {
   "display_name": "Python 3 (ipykernel)",
   "language": "python",
   "name": "python3"
  },
  "language_info": {
   "codemirror_mode": {
    "name": "ipython",
    "version": 3
   },
   "file_extension": ".py",
   "mimetype": "text/x-python",
   "name": "python",
   "nbconvert_exporter": "python",
   "pygments_lexer": "ipython3",
   "version": "3.10.10"
  }
 },
 "nbformat": 4,
 "nbformat_minor": 4
}
